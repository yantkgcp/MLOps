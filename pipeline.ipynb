{
 "cells": [
  {
   "cell_type": "code",
   "execution_count": null,
   "id": "1509fa4f-9551-4788-a7fa-f7a6f866da09",
   "metadata": {},
   "outputs": [],
   "source": [
    "from datetime import datetime\n",
    "datetime.now()"
   ]
  },
  {
   "cell_type": "code",
   "execution_count": null,
   "id": "8bed229a-a429-4968-a440-327c0a450632",
   "metadata": {},
   "outputs": [],
   "source": [
    "#%%capture\n",
    "import warnings\n",
    "#warnings.filterwarnings('ignore')\n",
    "!pip install kfp #--user\n",
    "!pip install -U google-cloud-pipeline-components #--user\n",
    "\n",
    "import google.cloud.aiplatform as aip\n",
    "import json\n",
    "\n",
    "from kfp import dsl\n",
    "from kfp.v2 import compiler\n",
    "from kfp.v2.dsl import component\n",
    "#from datetime import datetime\n",
    "\n",
    "TIMESTAMP = datetime.now().strftime(\"%Y%m%d%H%M%S\")\n",
    "\n",
    "PROJECT_ID = ''  ###BQ Dataset Project ID\n",
    "dataset = ''  \n",
    "dataset_id = PROJECT_ID + '.' + dataset\n",
    "BUCKET_NAME = 'gs://<bucket>'\n",
    "table = 'new_train'\n",
    "DISPLAY_NAME = 'Fraud-Detection-AutoML'\n",
    "\n",
    "aip.init(project=PROJECT_ID, staging_bucket=BUCKET_NAME)"
   ]
  },
  {
   "cell_type": "code",
   "execution_count": null,
   "id": "b6920507-9d89-422e-9984-ee7274d84acd",
   "metadata": {},
   "outputs": [],
   "source": [
    "datetime.now()"
   ]
  },
  {
   "cell_type": "code",
   "execution_count": null,
   "id": "242e4921-033f-48af-814b-050f6f694e30",
   "metadata": {},
   "outputs": [],
   "source": [
    "## Define Vertex AI Pipeline\n",
    "\n",
    "from google_cloud_pipeline_components import aiplatform as gcc_aip\n",
    "\n",
    "PIPELINE_ROOT = \"{}/pipeline_root/Fraud-Detection\".format(BUCKET_NAME)\n",
    "\n",
    "@dsl.pipeline(\n",
    "    name=\"fraud-detection\", \n",
    "    pipeline_root=PIPELINE_ROOT,\n",
    "    description=\"Fraud-Detection AutoML training\"\n",
    ")\n",
    "\n",
    "def pipeline(\n",
    "    bq_source: str = 'bq://' + dataset_id + '.' +  table,\n",
    "    display_name: str = DISPLAY_NAME,\n",
    "    project: str = PROJECT_ID,\n",
    "    gcp_region: str = \"us-central1\",\n",
    "    api_endpoint: str = \"us-central1-aiplatform.googleapis.com\",\n",
    "    thresholds_dict_str: str = '{\"auRoc\": 1.0}',\n",
    "    model_name: str = DISPLAY_NAME+TIMESTAMP\n",
    "):\n",
    "    ###############################################\n",
    "    ## Step 1 Create DS\n",
    "    dataset_op = gcc_aip.TabularDatasetCreateOp(\n",
    "        project=project, \n",
    "        display_name=\"Fraud-Detection-AutoML\", \n",
    "        bq_source=bq_source\n",
    "    ).set_caching_options(True)\n",
    "    ###############################################\n",
    "    \n",
    "    ###############################################\n",
    "    ## Step 2 AutoML Training Job\n",
    "    training_op = gcc_aip.AutoMLTabularTrainingJobRunOp(\n",
    "        project=project,\n",
    "        display_name=model_name,\n",
    "        model_display_name=model_name,\n",
    "        optimization_prediction_type=\"classification\",\n",
    "        optimization_objective=\"maximize-au-prc\",\n",
    "        budget_milli_node_hours=24000,\n",
    "        training_fraction_split=0.7,\n",
    "        validation_fraction_split=0.13,\n",
    "        test_fraction_split=0.17,\n",
    "        column_transformations=[\n",
    "            {\"numeric\": {\"column_name\": \"card_transactions_amount\"}},\n",
    "            {\"numeric\": {\"column_name\": \"card_transactions_transaction_distance\"}},\n",
    "            {\"numeric\": {\"column_name\": \"card_transactions_transaction_hour_of_day\"}},\n",
    "            {\"categorical\": {\"column_name\": \"category\"}},\n",
    "        ],\n",
    "        dataset=dataset_op.outputs[\"dataset\"],\n",
    "        target_column=\"is_fraud\",\n",
    "    ).set_caching_options(False)\n",
    "    ###############################################\n",
    "    \n",
    "    ###############################################\n",
    "    ## Step 3 Create Endpoint \n",
    "    endpoint_op = gcc_aip.EndpointCreateOp(\n",
    "            project=project,\n",
    "            location=gcp_region,\n",
    "            display_name=\"Fraud-Detection-AutoML\",\n",
    "        ).set_caching_options(True)\n",
    "    ###############################################\n",
    "    \n",
    "    ###############################################\n",
    "    ## Step 4 Deploy Model to the Endpoint\n",
    "    \n",
    "    deploy_op = gcc_aip.ModelDeployOp(  # noqa: F841\n",
    "            model=training_op.outputs[\"model\"],\n",
    "            endpoint=endpoint_op.outputs[\"endpoint\"],\n",
    "            dedicated_resources_min_replica_count=1,\n",
    "            dedicated_resources_max_replica_count=1,\n",
    "            dedicated_resources_machine_type=\"n1-standard-2\",\n",
    "            dedicated_resources_accelerator_type=\"NVIDIA_TESLA_K80\",\n",
    "            dedicated_resources_accelerator_count=1,\n",
    "            deployed_model_display_name=display_name\n",
    "        ).set_caching_options(False)\n",
    "    ###############################################\n",
    "    return str(dataset_op.outputs[\"dataset\"]),str(endpoint_op.outputs[\"endpoint\"])"
   ]
  },
  {
   "cell_type": "code",
   "execution_count": null,
   "id": "ff5322b4-f1cc-4af5-97b2-c3c37f08ef6e",
   "metadata": {},
   "outputs": [],
   "source": [
    "datetime.now()"
   ]
  },
  {
   "cell_type": "code",
   "execution_count": null,
   "id": "44f7f948-0c0f-45a0-a0d0-832a7c6b3652",
   "metadata": {},
   "outputs": [],
   "source": [
    "## Create Pipeline instance\n",
    "\n",
    "compiler.Compiler().compile(\n",
    "    pipeline_func=pipeline, package_path=\"fraud_detection_automl.json\"\n",
    ")\n",
    "\n",
    "pipeline = aip.PipelineJob(\n",
    "    display_name=\"Fraud_Detection_AutoML\",\n",
    "    template_path=\"fraud_detection_automl.json\",\n",
    "    pipeline_root=PIPELINE_ROOT,\n",
    "    parameter_values={\"project\": PROJECT_ID, \"display_name\": DISPLAY_NAME, \"model_name\": DISPLAY_NAME+TIMESTAMP},\n",
    ")\n",
    "\n",
    "pipeline.submit()\n",
    "\n",
    "#! rm -f checkride_automl.json"
   ]
  },
  {
   "cell_type": "code",
   "execution_count": null,
   "id": "5c3b2dfc-0116-49b0-8aef-0d4e0d860780",
   "metadata": {},
   "outputs": [],
   "source": [
    "datetime.now()"
   ]
  }
 ],
 "metadata": {
  "environment": {
   "kernel": "python3",
   "name": "managed-notebooks.m87",
   "type": "gcloud",
   "uri": "gcr.io/deeplearning-platform-release/base-cu110:latest"
  },
  "kernelspec": {
   "display_name": "Python (Local)",
   "language": "python",
   "name": "local-base"
  },
  "language_info": {
   "codemirror_mode": {
    "name": "ipython",
    "version": 3
   },
   "file_extension": ".py",
   "mimetype": "text/x-python",
   "name": "python",
   "nbconvert_exporter": "python",
   "pygments_lexer": "ipython3",
   "version": "3.7.12"
  }
 },
 "nbformat": 4,
 "nbformat_minor": 5
}
